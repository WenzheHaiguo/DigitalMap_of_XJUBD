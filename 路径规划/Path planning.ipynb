{
 "cells": [
  {
   "cell_type": "code",
   "execution_count": 1,
   "metadata": {},
   "outputs": [
    {
     "name": "stderr",
     "output_type": "stream",
     "text": [
      "d:\\Anaconda\\lib\\site-packages\\pandas\\core\\computation\\expressions.py:20: UserWarning: Pandas requires version '2.7.3' or newer of 'numexpr' (version '2.7.1' currently installed).\n",
      "  from pandas.core.computation.check import NUMEXPR_INSTALLED\n"
     ]
    }
   ],
   "source": [
    "import folium\n",
    "from folium import plugins\n",
    "import numpy as np\n",
    "import pandas as pd\n",
    "import requests\n",
    "from openpyxl import load_workbook"
   ]
  },
  {
   "cell_type": "code",
   "execution_count": 2,
   "metadata": {},
   "outputs": [],
   "source": [
    "strategy = 5 #规划策略 见https://lbs.amap.com/api/webservice/guide/api/direction#driving\n",
    "gaode_key = 'dcb33fc98e98d046a94071c2bc1456c4' #调用高德地图key\n",
    "lat_and_lon = [] #储存详细坐标经纬度\n",
    "Lon = []   # 储存经度\n",
    "Lat = []   # 储存纬度\n",
    "df = pd.read_excel(r\"J:\\Personal file\\Software programmer\\work\\station.xlsx\")\n",
    "way_lon = df['经度'].tolist()\n",
    "way_lat = df['纬度'].tolist()\n",
    "waypoint = '' #路径点\n",
    "jwd = df['经纬度'].tolist() \n",
    "grouped_strings = []\n",
    "tolls = 0\n",
    "duration = 0"
   ]
  },
  {
   "cell_type": "code",
   "execution_count": 3,
   "metadata": {},
   "outputs": [
    {
     "name": "stdout",
     "output_type": "stream",
     "text": [
      "总花费0元\n",
      "耗费54.016666666666666分钟\n"
     ]
    }
   ],
   "source": [
    "def get_routes(start, end, mode, gaode_key, waypoint):\n",
    "    url = f'https://restapi.amap.com/v3/direction/driving?origin={start}&destination={end}&strategy={mode}&waypoints={waypoint}&key={gaode_key}'\n",
    "    response = requests.get(url)\n",
    "    data = response.json()\n",
    "\n",
    "    if data['status'] == '1':\n",
    "        routes = data['route']['paths'][0]['steps']\n",
    "        return routes\n",
    "    else:\n",
    "        print('未获取到相关路径')\n",
    "        return None\n",
    "\n",
    "for i in range(0, len(jwd), 16):\n",
    "    group = jwd[i:i + 16]\n",
    "    string = ';'.join(map(str, group))\n",
    "    start = group[0]\n",
    "    end = group[-1]\n",
    "    waypoint = string\n",
    "\n",
    "    # 获取路线规划\n",
    "    routes = get_routes(start, end, strategy, gaode_key, waypoint)\n",
    "\n",
    "    if routes:\n",
    "        for i, step in enumerate(routes):\n",
    "            lat_and_lon.append(step[\"polyline\"])\n",
    "            tolls += int(step[\"tolls\"])\n",
    "            duration += int(step[\"duration\"])\n",
    "    else:\n",
    "        print('无法获取路线规划。')\n",
    "\n",
    "# 提取坐标点并全添加到 Lon 和 Lat 列表中\n",
    "for item in lat_and_lon:\n",
    "    points = item.split(';')\n",
    "    for point in points:\n",
    "        coords = point.split(',')\n",
    "        Lon.append(float(coords[0]))\n",
    "        Lat.append(float(coords[1]))\n",
    "\n",
    "def Map(Lat, Lon, la, lo):\n",
    "    tri = np.array(list(zip(Lat, Lon)))\n",
    "    san_map = folium.Map(\n",
    "        location=[23.243466, 113.637713],\n",
    "        zoom_start=16,\n",
    "        # 调用高德街道图\n",
    "        tiles='http://webrd02.is.autonavi.com/appmaptile?lang=zh_cn&size=1&scale=1&style=7&x={x}&y={y}&z={z}',\n",
    "        # tiles='http://webst02.is.autonavi.com/appmaptile?style=6&x={x}&y={y}&z={z}', # 高德卫星图\n",
    "        attr='default')\n",
    "\n",
    "    folium.PolyLine(tri, color='#ff0000').add_to(san_map)\n",
    "    marker_cluster = plugins.MarkerCluster().add_to(san_map)\n",
    "    for lat, lon in zip(la, lo):\n",
    "        icon = folium.Icon(color='red', icon='info-sign')  # 自定义图标\n",
    "        folium.Marker([lat, lon], icon=icon).add_to(marker_cluster)\n",
    "    san_map.save('地图.html')\n",
    "    print(\"总花费{}元\".format(tolls))\n",
    "    print(\"耗费{}分钟\".format(duration/60))\n",
    "\n",
    "def main():\n",
    "    Map(Lat, Lon, way_lat, way_lon)\n",
    "\n",
    "if __name__ == '__main__':\n",
    "    main()\n"
   ]
  }
 ],
 "metadata": {
  "kernelspec": {
   "display_name": "base",
   "language": "python",
   "name": "python3"
  },
  "language_info": {
   "codemirror_mode": {
    "name": "ipython",
    "version": 3
   },
   "file_extension": ".py",
   "mimetype": "text/x-python",
   "name": "python",
   "nbconvert_exporter": "python",
   "pygments_lexer": "ipython3",
   "version": "3.8.3"
  }
 },
 "nbformat": 4,
 "nbformat_minor": 2
}
